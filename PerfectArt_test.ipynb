{
 "cells": [
  {
   "cell_type": "code",
   "execution_count": 1,
   "id": "839cbffc",
   "metadata": {},
   "outputs": [],
   "source": [
    "from scipy.stats import levy_stable, norm\n",
    "import numpy as np\n",
    "import matplotlib.pyplot as plt\n",
    "import math\n",
    "import time"
   ]
  },
  {
   "cell_type": "code",
   "execution_count": 2,
   "id": "8a100502",
   "metadata": {},
   "outputs": [],
   "source": [
    "alpha, beta, gamma, delta = 1.7, .0, 1.0, 1.0"
   ]
  },
  {
   "cell_type": "code",
   "execution_count": 11,
   "id": "08480f6e",
   "metadata": {},
   "outputs": [],
   "source": [
    "#10 1-day returns to 10-day return\n",
    "def n_prod(a):\n",
    "    prod = 1\n",
    "    for i in range(len(a)):\n",
    "        prod *= a[i] + 1\n",
    "    return prod - 1\n",
    "\n",
    "#calculating of quantile\n",
    "def quantile(row, alpha):\n",
    "    r = sorted(row)\n",
    "    n = len(r)\n",
    "    k = int(alpha * (n - 1))\n",
    "    if k + 1 < alpha * n:\n",
    "        return r[k + 1]\n",
    "    elif k + 1 == alpha * n:\n",
    "        return (r[k] + r[k + 1]) / 2\n",
    "    else:\n",
    "        return r[k]\n",
    "\n",
    "#distribution \n",
    "def dist(row, function):\n",
    "    min_val, max_val, size = min(row), max(row), len(row)\n",
    "    step = (max_val - min_val) / size\n",
    "    dist = np.zeros(size)\n",
    "    for i in range(size):\n",
    "        for r in row:\n",
    "            if function == 'pdf':\n",
    "                if r < min_val + step * (i + 1) and r >= min_val + step * i:\n",
    "                    dist[i] += 1\n",
    "            if function == 'cdf':\n",
    "                if r < min_val + step * (i + 1):\n",
    "                    dist[i] += 1\n",
    "    return dist / size\n",
    "    \n",
    "#generating of percentile distribution    \n",
    "def perc_distribution(perc = .01, n_trials = 1000, function = 'pdf'):\n",
    "    samples = np.zeros(n_trials)\n",
    "    for i in range(n_trials):\n",
    "        ts_1 = levy_stable.rvs(alpha, beta, gamma, delta, size = 750)\n",
    "        ts_10 = [n_prod(ts_1[i:i + 10]) for i in range(len(ts_1) - 10)]\n",
    "        samples[i] = quantile(ts_10, perc)\n",
    "    if function == ['cdf', 'pdf']:\n",
    "        return np.sort(samples), dist(samples, 'cdf'), dist(samples, 'pdf')\n",
    "    if function == 'pdf':\n",
    "        return np.sort(samples), dist(samples, 'pdf')\n",
    "    if function == 'cdf':\n",
    "        return np.sort(samples), dist(samples, 'cdf')\n",
    "    if function == 'samples':\n",
    "        return np.sort(samples)\n",
    "    \n",
    "#confidence interval\n",
    "def conf_interval(n, alpha):\n",
    "    estimated_samples, estimated_freqs = perc_distribution(n_trials = n, function = 'pdf')\n",
    "    estimated_exp = np.sum(estimated_samples * estimated_freqs)\n",
    "    z_alpha = norm.ppf(1 - alpha/2)\n",
    "    std = np.std(estimated_samples)\n",
    "    left, right = estimated_exp - std * z_alpha / math.sqrt(n), estimated_exp + std * z_alpha / math.sqrt(n)\n",
    "    return left, right\n",
    "\n",
    "#fraction of occurrences\n",
    "def interval_prob(left, rigth, samples):\n",
    "    count = 0\n",
    "    for sample in samples:\n",
    "        if sample > left and sample < right:\n",
    "            count += 1\n",
    "    return count / samples.size"
   ]
  },
  {
   "cell_type": "code",
   "execution_count": 5,
   "id": "ff14fbb7",
   "metadata": {},
   "outputs": [],
   "source": [
    "with open('test_output.txt', 'w') as output:\n",
    "    t1 = time.time()\n",
    "    left, right = conf_interval(50000, .05)\n",
    "    t2 = time.time() - t1\n",
    "    output.write('interval is counted, t = ' + str(t2 / 60) + '\\n')\n",
    "    n_trials = 10\n",
    "    while(True):\n",
    "        es = np.zeros(500)\n",
    "        t1 = time.time()\n",
    "        #500 expectations with current number of trials\n",
    "        for i in range(500):\n",
    "            samples, freqs = perc_distribution(n_trials = n_trials, function = 'pdf')\n",
    "            e = np.sum(samples * freqs)\n",
    "            es[i] = e\n",
    "        p = interval_prob(left, right, es)\n",
    "        t2 = time.time() - t1\n",
    "        output.write('trials are counted ' + str(p) + ' t = ' + str(t2 / 60) + '\\n')\n",
    "        if n_trials > 50000:\n",
    "            output.write('50000')\n",
    "            break\n",
    "        if p < 0.9:\n",
    "            n_trials *= 2\n",
    "        else:\n",
    "            break"
   ]
  },
  {
   "cell_type": "code",
   "execution_count": 17,
   "id": "61c08271",
   "metadata": {},
   "outputs": [],
   "source": [
    "samples, cdf, pdf = perc_distribution(n_trials = 10240, function = ['cdf', 'pdf'])"
   ]
  },
  {
   "cell_type": "code",
   "execution_count": 26,
   "id": "e8cd18d8",
   "metadata": {},
   "outputs": [],
   "source": [
    "log_samples = -np.log(-samples)"
   ]
  },
  {
   "cell_type": "code",
   "execution_count": 29,
   "id": "a8b412d7",
   "metadata": {},
   "outputs": [
    {
     "data": {
      "image/png": "[encoded data removed]",
      "text/plain": [
       "<Figure size 432x288 with 1 Axes>"
      ]
     },
     "metadata": {
      "needs_background": "light"
     },
     "output_type": "display_data"
    }
   ],
   "source": [
    "plt.plot(log_samples, cdf)\n",
    "plt.title('CDF')\n",
    "plt.xlabel('percentiles (log)')\n",
    "plt.show()"
   ]
  },
  {
   "cell_type": "code",
   "execution_count": 30,
   "id": "b58b4525",
   "metadata": {},
   "outputs": [
    {
     "data": {
      "image/png": "[encoded data removed]",
      "text/plain": [
       "<Figure size 432x288 with 1 Axes>"
      ]
     },
     "metadata": {
      "needs_background": "light"
     },
     "output_type": "display_data"
    }
   ],
   "source": [
    "plt.plot(log_samples, pdf)\n",
    "plt.title('PDF')\n",
    "plt.xlabel('percentiles (log)')\n",
    "plt.show()"
   ]
  },
  {
   "cell_type": "code",
   "execution_count": null,
   "id": "00b221f6",
   "metadata": {},
   "outputs": [],
   "source": []
  }
 ],
 "metadata": {
  "kernelspec": {
   "display_name": "Python 3 (ipykernel)",
   "language": "python",
   "name": "python3"
  },
  "language_info": {
   "codemirror_mode": {
    "name": "ipython",
    "version": 3
   },
   "file_extension": ".py",
   "mimetype": "text/x-python",
   "name": "python",
   "nbconvert_exporter": "python",
   "pygments_lexer": "ipython3",
   "version": "3.9.7"
  }
 },
 "nbformat": 4,
 "nbformat_minor": 5
}
